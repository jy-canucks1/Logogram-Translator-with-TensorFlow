{
  "nbformat": 4,
  "nbformat_minor": 0,
  "metadata": {
    "colab": {
      "name": "short_project.ipynb",
      "provenance": [],
      "collapsed_sections": []
    },
    "kernelspec": {
      "name": "python3",
      "display_name": "Python 3"
    },
    "language_info": {
      "name": "python"
    },
    "accelerator": "TPU"
  },
  "cells": [
    {
      "cell_type": "code",
      "execution_count": 1,
      "metadata": {
        "id": "hbm0YfXtHBjm"
      },
      "outputs": [],
      "source": [
        "import csv\n",
        "import numpy as np\n",
        "import tensorflow as tf\n",
        "from tensorflow.keras.preprocessing.image import ImageDataGenerator\n",
        "from google.colab import files"
      ]
    },
    {
      "cell_type": "code",
      "source": [
        "uploaded=files.upload()"
      ],
      "metadata": {
        "colab": {
          "resources": {
            "http://localhost:8080/nbextensions/google.colab/files.js": {
              "data": "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",
              "ok": true,
              "headers": [
                [
                  "content-type",
                  "application/javascript"
                ]
              ],
              "status": 200,
              "status_text": ""
            }
          },
          "base_uri": "https://localhost:8080/",
          "height": 77
        },
        "id": "THxwzGU0HMLy",
        "outputId": "fbb6ae15-da0a-4326-ac8e-dcdfc9912a67"
      },
      "execution_count": 2,
      "outputs": [
        {
          "output_type": "display_data",
          "data": {
            "text/html": [
              "\n",
              "     <input type=\"file\" id=\"files-345fcbdc-5098-477b-b971-d92628ebe3dc\" name=\"files[]\" multiple disabled\n",
              "        style=\"border:none\" />\n",
              "     <output id=\"result-345fcbdc-5098-477b-b971-d92628ebe3dc\">\n",
              "      Upload widget is only available when the cell has been executed in the\n",
              "      current browser session. Please rerun this cell to enable.\n",
              "      </output>\n",
              "      <script src=\"/nbextensions/google.colab/files.js\"></script> "
            ],
            "text/plain": [
              "<IPython.core.display.HTML object>"
            ]
          },
          "metadata": {}
        },
        {
          "output_type": "stream",
          "name": "stdout",
          "text": [
            "Saving _chineseMNIST.csv to _chineseMNIST.csv\n"
          ]
        }
      ]
    },
    {
      "cell_type": "code",
      "source": [
        "def len_data(filename):\n",
        "  i=0\n",
        "  with open(filename) as training_file:\n",
        "        csv_reader = csv.reader(training_file, delimiter=',')\n",
        "        first_line = True\n",
        "        temp_images = []\n",
        "        temp_labels = []\n",
        "        for row in csv_reader:\n",
        "            if first_line:\n",
        "                # print(\"Ignoring first line\")\n",
        "                first_line = False\n",
        "            else:\n",
        "              i+=1\n",
        "  return i"
      ],
      "metadata": {
        "id": "0fcn9zhpHqQ5"
      },
      "execution_count": 3,
      "outputs": []
    },
    {
      "cell_type": "code",
      "source": [
        "def get_data(filename):\n",
        "    with open(filename) as training_file:\n",
        "        csv_reader = csv.reader(training_file, delimiter=',')\n",
        "        temp_train_images = []\n",
        "        temp_train_labels = []\n",
        "        temp_test_images = []\n",
        "        temp_test_labels = []\n",
        "        j = 0\n",
        "        for row in csv_reader:\n",
        "            if row[0] == \"pixel_0\":\n",
        "              row = False\n",
        "            elif j< leng * split_size:\n",
        "              image_data = row[0:4096]\n",
        "              image_data_as_array = np.array_split(image_data, 64)\n",
        "              temp_train_images.append(image_data_as_array)\n",
        "              if row[4096]==\"100\":\n",
        "                temp_train_labels.append(\"11\")\n",
        "              elif row[4096]==\"1000\":\n",
        "                temp_train_labels.append(\"12\")\n",
        "              elif row[4096]==\"10000\":\n",
        "                temp_train_labels.append(\"13\")\n",
        "              elif row[4096]==\"100000000\":\n",
        "                temp_train_labels.append(\"14\")\n",
        "              else:      \n",
        "                temp_train_labels.append(row[4096])      \n",
        "           \n",
        "            else:              \n",
        "              image_data = row[0:4096]\n",
        "              image_data_as_array = np.array_split(image_data, 64)\n",
        "              temp_test_images.append(image_data_as_array)\n",
        "              if row[4096]==\"100\":\n",
        "                temp_test_labels.append(\"11\")\n",
        "              elif row[4096]==\"1000\":\n",
        "                temp_test_labels.append(\"12\")\n",
        "              elif row[4096]==\"10000\":\n",
        "                temp_test_labels.append(\"13\")\n",
        "              elif row[4096]==\"100000000\":\n",
        "                temp_test_labels.append(\"14\")\n",
        "              else: \n",
        "                temp_test_labels.append(row[4096])\n",
        "\n",
        "\n",
        "            j+=1\n",
        "\n",
        "        train_images = np.array(temp_train_images).astype('float')\n",
        "        train_labels = np.array(temp_train_labels).astype('float')\n",
        "        test_images = np.array(temp_test_images).astype('float')\n",
        "        test_labels = np.array(temp_test_labels).astype('float')\n",
        "\n",
        "    return  train_images, train_labels, test_images, test_labels\n",
        "\n",
        "\n",
        "leng = len_data('_chineseMNIST.csv')\n",
        "split_size = .8\n",
        "\n",
        "training_images, training_labels, testing_images, testing_labels = get_data('_chineseMNIST.csv') \n",
        "\n",
        "print(training_images.shape)\n",
        "print(training_labels.shape)\n",
        "print(testing_images.shape)\n",
        "print(testing_labels.shape)"
      ],
      "metadata": {
        "colab": {
          "base_uri": "https://localhost:8080/"
        },
        "id": "9Wt-eKL7HMyc",
        "outputId": "edda2f4a-28cf-4eaa-838d-a06fe3eb5a4d"
      },
      "execution_count": 14,
      "outputs": [
        {
          "output_type": "stream",
          "name": "stdout",
          "text": [
            "(12000, 64, 64)\n",
            "(12000,)\n",
            "(3000, 64, 64)\n",
            "(3000,)\n"
          ]
        }
      ]
    },
    {
      "cell_type": "code",
      "source": [
        "training_images = np.expand_dims(training_images, axis=3)\n",
        "testing_images = np.expand_dims(testing_images, axis=3)\n",
        "\n",
        "train_datagen = ImageDataGenerator(\n",
        "    rescale=1. / 255,\n",
        "    rotation_range=40,\n",
        "    width_shift_range=0.2,\n",
        "    height_shift_range=0.2,\n",
        "    shear_range=0.2,\n",
        "    zoom_range=0.2,\n",
        "    horizontal_flip=True,\n",
        "    fill_mode='nearest')\n",
        "\n",
        "validation_datagen = ImageDataGenerator(\n",
        "    rescale=1. / 255)\n",
        "\n",
        "print(training_images.shape)\n",
        "print(testing_images.shape)"
      ],
      "metadata": {
        "colab": {
          "base_uri": "https://localhost:8080/"
        },
        "id": "12aaFC3ZHOjE",
        "outputId": "7554fb73-afc0-4511-8fb2-d0d037ce7af1"
      },
      "execution_count": 7,
      "outputs": [
        {
          "output_type": "stream",
          "name": "stdout",
          "text": [
            "(12000, 64, 64, 1)\n",
            "(3000, 64, 64, 1)\n"
          ]
        }
      ]
    },
    {
      "cell_type": "code",
      "source": [
        "model = tf.keras.models.Sequential([\n",
        "    tf.keras.layers.Conv2D(64, (3, 3), activation='relu', input_shape=(64, 64, 1)),\n",
        "    tf.keras.layers.MaxPooling2D(2, 2),\n",
        "    tf.keras.layers.Conv2D(64, (3, 3), activation='relu'),\n",
        "    tf.keras.layers.MaxPooling2D(2, 2),\n",
        "    tf.keras.layers.Flatten(),\n",
        "    tf.keras.layers.Dense(128, activation=tf.nn.relu),\n",
        "    tf.keras.layers.Dense(15, activation=tf.nn.softmax)])\n",
        "\n",
        "model.compile(optimizer = tf.optimizers.Adam(),\n",
        "              loss = 'sparse_categorical_crossentropy',\n",
        "              metrics=['accuracy'])\n",
        "\n",
        "history = model.fit(train_datagen.flow(training_images, training_labels, batch_size=32),\n",
        "                              steps_per_epoch=len(training_images) / 32,\n",
        "                              epochs=50,\n",
        "                              validation_data=validation_datagen.flow(testing_images, testing_labels, batch_size=32),\n",
        "                              validation_steps=len(testing_images) / 32)\n",
        "\n"
      ],
      "metadata": {
        "colab": {
          "base_uri": "https://localhost:8080/"
        },
        "id": "GXetiVxqHQWZ",
        "outputId": "b8b1a15d-5c2a-46a3-a772-0b4ce3bcb02b"
      },
      "execution_count": 9,
      "outputs": [
        {
          "output_type": "stream",
          "name": "stdout",
          "text": [
            "Epoch 1/50\n",
            "375/375 [==============================] - 109s 287ms/step - loss: 2.0167 - accuracy: 0.3040 - val_loss: 1.2510 - val_accuracy: 0.5323\n",
            "Epoch 2/50\n",
            "375/375 [==============================] - 107s 285ms/step - loss: 1.2662 - accuracy: 0.5573 - val_loss: 0.7345 - val_accuracy: 0.7297\n",
            "Epoch 3/50\n",
            "375/375 [==============================] - 107s 286ms/step - loss: 1.0442 - accuracy: 0.6337 - val_loss: 0.5769 - val_accuracy: 0.7957\n",
            "Epoch 4/50\n",
            "375/375 [==============================] - 109s 290ms/step - loss: 0.9028 - accuracy: 0.6883 - val_loss: 0.4495 - val_accuracy: 0.8483\n",
            "Epoch 5/50\n",
            "375/375 [==============================] - 108s 289ms/step - loss: 0.8149 - accuracy: 0.7217 - val_loss: 0.4456 - val_accuracy: 0.8270\n",
            "Epoch 6/50\n",
            "375/375 [==============================] - 108s 289ms/step - loss: 0.7353 - accuracy: 0.7416 - val_loss: 0.3558 - val_accuracy: 0.8657\n",
            "Epoch 7/50\n",
            "375/375 [==============================] - 109s 290ms/step - loss: 0.6625 - accuracy: 0.7757 - val_loss: 0.3271 - val_accuracy: 0.8820\n",
            "Epoch 8/50\n",
            "375/375 [==============================] - 108s 287ms/step - loss: 0.6048 - accuracy: 0.7953 - val_loss: 0.3764 - val_accuracy: 0.8587\n",
            "Epoch 9/50\n",
            "375/375 [==============================] - 108s 287ms/step - loss: 0.5667 - accuracy: 0.8123 - val_loss: 0.2647 - val_accuracy: 0.9067\n",
            "Epoch 10/50\n",
            "375/375 [==============================] - 107s 285ms/step - loss: 0.5098 - accuracy: 0.8304 - val_loss: 0.2652 - val_accuracy: 0.9007\n",
            "Epoch 11/50\n",
            "375/375 [==============================] - 107s 285ms/step - loss: 0.4799 - accuracy: 0.8348 - val_loss: 0.2593 - val_accuracy: 0.9087\n",
            "Epoch 12/50\n",
            "375/375 [==============================] - 107s 285ms/step - loss: 0.4352 - accuracy: 0.8562 - val_loss: 0.2282 - val_accuracy: 0.9177\n",
            "Epoch 13/50\n",
            "375/375 [==============================] - 107s 285ms/step - loss: 0.3927 - accuracy: 0.8704 - val_loss: 0.1582 - val_accuracy: 0.9467\n",
            "Epoch 14/50\n",
            "375/375 [==============================] - 107s 285ms/step - loss: 0.3746 - accuracy: 0.8791 - val_loss: 0.2415 - val_accuracy: 0.9133\n",
            "Epoch 15/50\n",
            "375/375 [==============================] - 108s 289ms/step - loss: 0.3544 - accuracy: 0.8817 - val_loss: 0.1758 - val_accuracy: 0.9390\n",
            "Epoch 16/50\n",
            "375/375 [==============================] - 107s 285ms/step - loss: 0.3299 - accuracy: 0.8913 - val_loss: 0.1463 - val_accuracy: 0.9533\n",
            "Epoch 17/50\n",
            "375/375 [==============================] - 107s 285ms/step - loss: 0.3032 - accuracy: 0.8995 - val_loss: 0.1841 - val_accuracy: 0.9433\n",
            "Epoch 18/50\n",
            "375/375 [==============================] - 107s 286ms/step - loss: 0.2956 - accuracy: 0.9073 - val_loss: 0.1540 - val_accuracy: 0.9460\n",
            "Epoch 19/50\n",
            "375/375 [==============================] - 107s 285ms/step - loss: 0.2779 - accuracy: 0.9103 - val_loss: 0.1147 - val_accuracy: 0.9603\n",
            "Epoch 20/50\n",
            "375/375 [==============================] - 108s 289ms/step - loss: 0.2619 - accuracy: 0.9143 - val_loss: 0.1724 - val_accuracy: 0.9390\n",
            "Epoch 21/50\n",
            "375/375 [==============================] - 107s 286ms/step - loss: 0.2477 - accuracy: 0.9218 - val_loss: 0.0942 - val_accuracy: 0.9683\n",
            "Epoch 22/50\n",
            "375/375 [==============================] - 108s 287ms/step - loss: 0.2276 - accuracy: 0.9280 - val_loss: 0.1373 - val_accuracy: 0.9577\n",
            "Epoch 23/50\n",
            "375/375 [==============================] - 108s 289ms/step - loss: 0.2442 - accuracy: 0.9215 - val_loss: 0.1980 - val_accuracy: 0.9223\n",
            "Epoch 24/50\n",
            "375/375 [==============================] - 107s 285ms/step - loss: 0.2179 - accuracy: 0.9290 - val_loss: 0.1013 - val_accuracy: 0.9637\n",
            "Epoch 25/50\n",
            "375/375 [==============================] - 108s 287ms/step - loss: 0.2186 - accuracy: 0.9293 - val_loss: 0.1111 - val_accuracy: 0.9623\n",
            "Epoch 26/50\n",
            "375/375 [==============================] - 107s 285ms/step - loss: 0.2184 - accuracy: 0.9293 - val_loss: 0.0993 - val_accuracy: 0.9680\n",
            "Epoch 27/50\n",
            "375/375 [==============================] - 107s 286ms/step - loss: 0.1945 - accuracy: 0.9402 - val_loss: 0.1330 - val_accuracy: 0.9500\n",
            "Epoch 28/50\n",
            "375/375 [==============================] - 107s 286ms/step - loss: 0.1872 - accuracy: 0.9385 - val_loss: 0.2119 - val_accuracy: 0.9207\n",
            "Epoch 29/50\n",
            "375/375 [==============================] - 112s 297ms/step - loss: 0.1763 - accuracy: 0.9438 - val_loss: 0.1175 - val_accuracy: 0.9607\n",
            "Epoch 30/50\n",
            "375/375 [==============================] - 108s 287ms/step - loss: 0.1647 - accuracy: 0.9486 - val_loss: 0.0812 - val_accuracy: 0.9740\n",
            "Epoch 31/50\n",
            "375/375 [==============================] - 108s 287ms/step - loss: 0.1759 - accuracy: 0.9450 - val_loss: 0.0816 - val_accuracy: 0.9757\n",
            "Epoch 32/50\n",
            "375/375 [==============================] - 108s 287ms/step - loss: 0.1619 - accuracy: 0.9485 - val_loss: 0.0857 - val_accuracy: 0.9697\n",
            "Epoch 33/50\n",
            "375/375 [==============================] - 109s 290ms/step - loss: 0.1645 - accuracy: 0.9464 - val_loss: 0.1658 - val_accuracy: 0.9413\n",
            "Epoch 34/50\n",
            "375/375 [==============================] - 107s 287ms/step - loss: 0.1595 - accuracy: 0.9490 - val_loss: 0.0691 - val_accuracy: 0.9817\n",
            "Epoch 35/50\n",
            "375/375 [==============================] - 107s 285ms/step - loss: 0.1500 - accuracy: 0.9517 - val_loss: 0.0815 - val_accuracy: 0.9770\n",
            "Epoch 36/50\n",
            "375/375 [==============================] - 107s 286ms/step - loss: 0.1544 - accuracy: 0.9507 - val_loss: 0.0574 - val_accuracy: 0.9840\n",
            "Epoch 37/50\n",
            "375/375 [==============================] - 108s 288ms/step - loss: 0.1384 - accuracy: 0.9571 - val_loss: 0.0624 - val_accuracy: 0.9797\n",
            "Epoch 38/50\n",
            "375/375 [==============================] - 107s 286ms/step - loss: 0.1424 - accuracy: 0.9550 - val_loss: 0.1213 - val_accuracy: 0.9607\n",
            "Epoch 39/50\n",
            "375/375 [==============================] - 109s 290ms/step - loss: 0.1436 - accuracy: 0.9540 - val_loss: 0.0984 - val_accuracy: 0.9660\n",
            "Epoch 40/50\n",
            "375/375 [==============================] - 108s 287ms/step - loss: 0.1438 - accuracy: 0.9552 - val_loss: 0.0755 - val_accuracy: 0.9747\n",
            "Epoch 41/50\n",
            "375/375 [==============================] - 108s 288ms/step - loss: 0.1385 - accuracy: 0.9579 - val_loss: 0.0549 - val_accuracy: 0.9840\n",
            "Epoch 42/50\n",
            "375/375 [==============================] - 110s 294ms/step - loss: 0.1298 - accuracy: 0.9575 - val_loss: 0.0744 - val_accuracy: 0.9770\n",
            "Epoch 43/50\n",
            "375/375 [==============================] - 108s 287ms/step - loss: 0.1315 - accuracy: 0.9597 - val_loss: 0.0605 - val_accuracy: 0.9803\n",
            "Epoch 44/50\n",
            "375/375 [==============================] - 108s 287ms/step - loss: 0.1326 - accuracy: 0.9578 - val_loss: 0.0552 - val_accuracy: 0.9830\n",
            "Epoch 45/50\n",
            "375/375 [==============================] - 108s 288ms/step - loss: 0.1284 - accuracy: 0.9613 - val_loss: 0.0869 - val_accuracy: 0.9730\n",
            "Epoch 46/50\n",
            "375/375 [==============================] - 109s 290ms/step - loss: 0.1268 - accuracy: 0.9603 - val_loss: 0.0528 - val_accuracy: 0.9850\n",
            "Epoch 47/50\n",
            "375/375 [==============================] - 111s 296ms/step - loss: 0.1286 - accuracy: 0.9573 - val_loss: 0.0854 - val_accuracy: 0.9723\n",
            "Epoch 48/50\n",
            "375/375 [==============================] - 109s 291ms/step - loss: 0.1201 - accuracy: 0.9617 - val_loss: 0.0922 - val_accuracy: 0.9717\n",
            "Epoch 49/50\n",
            "375/375 [==============================] - 109s 290ms/step - loss: 0.1184 - accuracy: 0.9618 - val_loss: 0.0657 - val_accuracy: 0.9780\n",
            "Epoch 50/50\n",
            "375/375 [==============================] - 108s 289ms/step - loss: 0.1141 - accuracy: 0.9657 - val_loss: 0.0469 - val_accuracy: 0.9863\n"
          ]
        }
      ]
    },
    {
      "cell_type": "code",
      "source": [
        "model.summary()\n",
        "\n",
        "#Model: \"sequential_1\"\n",
        "#_________________________________________________________________\n",
        "# Layer (type)                Output Shape              Param #   \n",
        "#=================================================================\n",
        "# conv2d_2 (Conv2D)           (None, 62, 62, 64)        640       \n",
        "#                                                                 \n",
        "# max_pooling2d_2 (MaxPooling  (None, 31, 31, 64)       0         \n",
        "# 2D)                                                             \n",
        "#                                                                 \n",
        "# conv2d_3 (Conv2D)           (None, 29, 29, 64)        36928     \n",
        "#                                                                 \n",
        "# max_pooling2d_3 (MaxPooling  (None, 14, 14, 64)       0         \n",
        "# 2D)                                                             \n",
        "#                                                                 \n",
        "# flatten_1 (Flatten)         (None, 12544)             0         \n",
        "#                                                                 \n",
        "# dense_2 (Dense)             (None, 128)               1605760   \n",
        "#                                                                 \n",
        "# dense_3 (Dense)             (None, 15)                1935      \n",
        "#                                                                 \n",
        "#=================================================================\n",
        "#Total params: 1,645,263\n",
        "#Trainable params: 1,645,263\n",
        "#Non-trainable params: 0\n",
        "#_________________________________________________________________"
      ],
      "metadata": {
        "colab": {
          "base_uri": "https://localhost:8080/"
        },
        "id": "8e5QK-u6v0jx",
        "outputId": "1b52c8fb-6f72-4bd4-dc42-93a4d5675c43"
      },
      "execution_count": 13,
      "outputs": [
        {
          "output_type": "stream",
          "name": "stdout",
          "text": [
            "Model: \"sequential_1\"\n",
            "_________________________________________________________________\n",
            " Layer (type)                Output Shape              Param #   \n",
            "=================================================================\n",
            " conv2d_2 (Conv2D)           (None, 62, 62, 64)        640       \n",
            "                                                                 \n",
            " max_pooling2d_2 (MaxPooling  (None, 31, 31, 64)       0         \n",
            " 2D)                                                             \n",
            "                                                                 \n",
            " conv2d_3 (Conv2D)           (None, 29, 29, 64)        36928     \n",
            "                                                                 \n",
            " max_pooling2d_3 (MaxPooling  (None, 14, 14, 64)       0         \n",
            " 2D)                                                             \n",
            "                                                                 \n",
            " flatten_1 (Flatten)         (None, 12544)             0         \n",
            "                                                                 \n",
            " dense_2 (Dense)             (None, 128)               1605760   \n",
            "                                                                 \n",
            " dense_3 (Dense)             (None, 15)                1935      \n",
            "                                                                 \n",
            "=================================================================\n",
            "Total params: 1,645,263\n",
            "Trainable params: 1,645,263\n",
            "Non-trainable params: 0\n",
            "_________________________________________________________________\n"
          ]
        }
      ]
    },
    {
      "cell_type": "code",
      "source": [
        "from google.colab import files\n",
        "\n",
        "model.save('CNLrecognition_model.h5')\n",
        "files.download('CNLrecognition_model.h5')"
      ],
      "metadata": {
        "colab": {
          "base_uri": "https://localhost:8080/",
          "height": 17
        },
        "id": "4ibc9xThv7a-",
        "outputId": "647d454f-8895-42b1-80f1-2c28d7693870"
      },
      "execution_count": 11,
      "outputs": [
        {
          "output_type": "display_data",
          "data": {
            "application/javascript": [
              "\n",
              "    async function download(id, filename, size) {\n",
              "      if (!google.colab.kernel.accessAllowed) {\n",
              "        return;\n",
              "      }\n",
              "      const div = document.createElement('div');\n",
              "      const label = document.createElement('label');\n",
              "      label.textContent = `Downloading \"${filename}\": `;\n",
              "      div.appendChild(label);\n",
              "      const progress = document.createElement('progress');\n",
              "      progress.max = size;\n",
              "      div.appendChild(progress);\n",
              "      document.body.appendChild(div);\n",
              "\n",
              "      const buffers = [];\n",
              "      let downloaded = 0;\n",
              "\n",
              "      const channel = await google.colab.kernel.comms.open(id);\n",
              "      // Send a message to notify the kernel that we're ready.\n",
              "      channel.send({})\n",
              "\n",
              "      for await (const message of channel.messages) {\n",
              "        // Send a message to notify the kernel that we're ready.\n",
              "        channel.send({})\n",
              "        if (message.buffers) {\n",
              "          for (const buffer of message.buffers) {\n",
              "            buffers.push(buffer);\n",
              "            downloaded += buffer.byteLength;\n",
              "            progress.value = downloaded;\n",
              "          }\n",
              "        }\n",
              "      }\n",
              "      const blob = new Blob(buffers, {type: 'application/binary'});\n",
              "      const a = document.createElement('a');\n",
              "      a.href = window.URL.createObjectURL(blob);\n",
              "      a.download = filename;\n",
              "      div.appendChild(a);\n",
              "      a.click();\n",
              "      div.remove();\n",
              "    }\n",
              "  "
            ],
            "text/plain": [
              "<IPython.core.display.Javascript object>"
            ]
          },
          "metadata": {}
        },
        {
          "output_type": "display_data",
          "data": {
            "application/javascript": [
              "download(\"download_7195795a-3642-484e-b978-c02b8341c178\", \"CNLrecognition_model.h5\", 19790224)"
            ],
            "text/plain": [
              "<IPython.core.display.Javascript object>"
            ]
          },
          "metadata": {}
        }
      ]
    },
    {
      "cell_type": "code",
      "source": [
        "import matplotlib.pyplot as plt\n",
        "acc = history.history['accuracy']\n",
        "val_acc = history.history['val_accuracy']\n",
        "loss = history.history['loss']\n",
        "val_loss = history.history['val_loss']\n",
        "\n",
        "epochs = range(len(acc))\n",
        "\n",
        "plt.plot(epochs, acc, 'r', label='Training accuracy')\n",
        "plt.plot(epochs, val_acc, 'b', label='Validation accuracy')\n",
        "plt.title('Training and validation accuracy')\n",
        "plt.legend()\n",
        "plt.figure()\n",
        "\n",
        "plt.plot(epochs, loss, 'r', label='Training Loss')\n",
        "plt.plot(epochs, val_loss, 'b', label='Validation Loss')\n",
        "plt.title('Training and validation loss')\n",
        "plt.legend()\n",
        "\n",
        "plt.show()"
      ],
      "metadata": {
        "id": "6HB9oEZWHSbR",
        "colab": {
          "base_uri": "https://localhost:8080/",
          "height": 545
        },
        "outputId": "25544548-a3ba-4b91-aa0b-b516c2a45063"
      },
      "execution_count": 12,
      "outputs": [
        {
          "output_type": "display_data",
          "data": {
            "image/png": "[encoded data removed]",
            "text/plain": [
              "<Figure size 432x288 with 1 Axes>"
            ]
          },
          "metadata": {
            "needs_background": "light"
          }
        },
        {
          "output_type": "display_data",
          "data": {
            "image/png": "[encoded data removed]",
            "text/plain": [
              "<Figure size 432x288 with 1 Axes>"
            ]
          },
          "metadata": {
            "needs_background": "light"
          }
        }
      ]
    },
    {
      "cell_type": "code",
      "source": [
        ""
      ],
      "metadata": {
        "id": "YeywAq-JIGYr"
      },
      "execution_count": null,
      "outputs": []
    }
  ]
}